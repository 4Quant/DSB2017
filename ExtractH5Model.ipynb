{
 "cells": [
  {
   "cell_type": "code",
   "execution_count": 13,
   "metadata": {},
   "outputs": [],
   "source": [
    "import os\n",
    "from glob import glob\n",
    "from keras.models import load_model\n",
    "import h5py"
   ]
  },
  {
   "cell_type": "code",
   "execution_count": 14,
   "metadata": {},
   "outputs": [
    {
     "name": "stdout",
     "output_type": "stream",
     "text": [
      "scoring_code/ensemble 2 models/model_des_v38_mse_64_finetune_04.h5 ['scoring_code/nodule models/model_clf_v1_64_finetune_04.h5', 'scoring_code/nodule models/model_LUNA_64_v29_14.h5']\n"
     ]
    }
   ],
   "source": [
    "all_models = glob(os.path.join('*', '*', '*.h5'))\n",
    "node_models = [x for x in all_models if 'nodule' in x]\n",
    "print(all_models[0], node_models)"
   ]
  },
  {
   "cell_type": "code",
   "execution_count": 13,
   "metadata": {
    "scrolled": true
   },
   "outputs": [
    {
     "name": "stderr",
     "output_type": "stream",
     "text": [
      "/Users/mader/anaconda/lib/python3.5/site-packages/keras/engine/topology.py:1242: UserWarning: Update your `InputLayer` call to the Keras 2 API: `InputLayer(dtype=\"float32\", name=\"input_2\", batch_input_shape=[None, 1, ..., sparse=False)`\n",
      "  return cls(**config)\n",
      "/Users/mader/anaconda/lib/python3.5/site-packages/keras/engine/topology.py:1242: UserWarning: Update your `Conv3D` call to the Keras 2 API: `Conv3D(padding=\"same\", name=\"convolution3d_6\", strides=[1, 1, 1], trainable=True, kernel_size=(3, 3, 3), activity_regularizer=None, data_format=\"channels_first\", bias_regularizer=None, kernel_regularizer={'name': '..., activation=\"linear\", filters=8, kernel_initializer=\"glorot_uniform\", bias_constraint=None, use_bias=True, kernel_constraint=None)`\n",
      "  return cls(**config)\n"
     ]
    },
    {
     "ename": "ValueError",
     "evalue": "Improper config format: {'name': 'L1L2Regularizer', 'l2': 9.999999747378752e-05, 'l1': 0.0}",
     "output_type": "error",
     "traceback": [
      "\u001b[0;31m---------------------------------------------------------------------------\u001b[0m",
      "\u001b[0;31mValueError\u001b[0m                                Traceback (most recent call last)",
      "\u001b[0;32m<ipython-input-13-0a59a1d810d0>\u001b[0m in \u001b[0;36m<module>\u001b[0;34m()\u001b[0m\n\u001b[0;32m----> 1\u001b[0;31m \u001b[0mload_model\u001b[0m\u001b[0;34m(\u001b[0m\u001b[0mnode_models\u001b[0m\u001b[0;34m[\u001b[0m\u001b[0;36m1\u001b[0m\u001b[0;34m]\u001b[0m\u001b[0;34m,\u001b[0m \u001b[0mcompile\u001b[0m\u001b[0;34m=\u001b[0m\u001b[0;32mTrue\u001b[0m\u001b[0;34m,\u001b[0m \u001b[0mcustom_objects\u001b[0m\u001b[0;34m=\u001b[0m\u001b[0mdict\u001b[0m\u001b[0;34m(\u001b[0m\u001b[0mL1L2Regularizer\u001b[0m \u001b[0;34m=\u001b[0m \u001b[0;32mlambda\u001b[0m \u001b[0mx\u001b[0m\u001b[0;34m:\u001b[0m \u001b[0mx\u001b[0m\u001b[0;34m)\u001b[0m\u001b[0;34m)\u001b[0m\u001b[0;34m\u001b[0m\u001b[0m\n\u001b[0m",
      "\u001b[0;32m/Users/mader/anaconda/lib/python3.5/site-packages/keras/models.py\u001b[0m in \u001b[0;36mload_model\u001b[0;34m(filepath, custom_objects, compile)\u001b[0m\n\u001b[1;32m    231\u001b[0m             \u001b[0;32mraise\u001b[0m \u001b[0mValueError\u001b[0m\u001b[0;34m(\u001b[0m\u001b[0;34m'No model found in config file.'\u001b[0m\u001b[0;34m)\u001b[0m\u001b[0;34m\u001b[0m\u001b[0m\n\u001b[1;32m    232\u001b[0m         \u001b[0mmodel_config\u001b[0m \u001b[0;34m=\u001b[0m \u001b[0mjson\u001b[0m\u001b[0;34m.\u001b[0m\u001b[0mloads\u001b[0m\u001b[0;34m(\u001b[0m\u001b[0mmodel_config\u001b[0m\u001b[0;34m.\u001b[0m\u001b[0mdecode\u001b[0m\u001b[0;34m(\u001b[0m\u001b[0;34m'utf-8'\u001b[0m\u001b[0;34m)\u001b[0m\u001b[0;34m)\u001b[0m\u001b[0;34m\u001b[0m\u001b[0m\n\u001b[0;32m--> 233\u001b[0;31m         \u001b[0mmodel\u001b[0m \u001b[0;34m=\u001b[0m \u001b[0mmodel_from_config\u001b[0m\u001b[0;34m(\u001b[0m\u001b[0mmodel_config\u001b[0m\u001b[0;34m,\u001b[0m \u001b[0mcustom_objects\u001b[0m\u001b[0;34m=\u001b[0m\u001b[0mcustom_objects\u001b[0m\u001b[0;34m)\u001b[0m\u001b[0;34m\u001b[0m\u001b[0m\n\u001b[0m\u001b[1;32m    234\u001b[0m \u001b[0;34m\u001b[0m\u001b[0m\n\u001b[1;32m    235\u001b[0m         \u001b[0;31m# set weights\u001b[0m\u001b[0;34m\u001b[0m\u001b[0;34m\u001b[0m\u001b[0m\n",
      "\u001b[0;32m/Users/mader/anaconda/lib/python3.5/site-packages/keras/models.py\u001b[0m in \u001b[0;36mmodel_from_config\u001b[0;34m(config, custom_objects)\u001b[0m\n\u001b[1;32m    305\u001b[0m                         \u001b[0;34m'Maybe you meant to use '\u001b[0m\u001b[0;34m\u001b[0m\u001b[0m\n\u001b[1;32m    306\u001b[0m                         '`Sequential.from_config(config)`?')\n\u001b[0;32m--> 307\u001b[0;31m     \u001b[0;32mreturn\u001b[0m \u001b[0mlayer_module\u001b[0m\u001b[0;34m.\u001b[0m\u001b[0mdeserialize\u001b[0m\u001b[0;34m(\u001b[0m\u001b[0mconfig\u001b[0m\u001b[0;34m,\u001b[0m \u001b[0mcustom_objects\u001b[0m\u001b[0;34m=\u001b[0m\u001b[0mcustom_objects\u001b[0m\u001b[0;34m)\u001b[0m\u001b[0;34m\u001b[0m\u001b[0m\n\u001b[0m\u001b[1;32m    308\u001b[0m \u001b[0;34m\u001b[0m\u001b[0m\n\u001b[1;32m    309\u001b[0m \u001b[0;34m\u001b[0m\u001b[0m\n",
      "\u001b[0;32m/Users/mader/anaconda/lib/python3.5/site-packages/keras/layers/__init__.py\u001b[0m in \u001b[0;36mdeserialize\u001b[0;34m(config, custom_objects)\u001b[0m\n\u001b[1;32m     52\u001b[0m                                     \u001b[0mmodule_objects\u001b[0m\u001b[0;34m=\u001b[0m\u001b[0mglobs\u001b[0m\u001b[0;34m,\u001b[0m\u001b[0;34m\u001b[0m\u001b[0m\n\u001b[1;32m     53\u001b[0m                                     \u001b[0mcustom_objects\u001b[0m\u001b[0;34m=\u001b[0m\u001b[0mcustom_objects\u001b[0m\u001b[0;34m,\u001b[0m\u001b[0;34m\u001b[0m\u001b[0m\n\u001b[0;32m---> 54\u001b[0;31m                                     printable_module_name='layer')\n\u001b[0m",
      "\u001b[0;32m/Users/mader/anaconda/lib/python3.5/site-packages/keras/utils/generic_utils.py\u001b[0m in \u001b[0;36mdeserialize_keras_object\u001b[0;34m(identifier, module_objects, custom_objects, printable_module_name)\u001b[0m\n\u001b[1;32m    137\u001b[0m                 return cls.from_config(config['config'],\n\u001b[1;32m    138\u001b[0m                                        custom_objects=dict(list(_GLOBAL_CUSTOM_OBJECTS.items()) +\n\u001b[0;32m--> 139\u001b[0;31m                                                            list(custom_objects.items())))\n\u001b[0m\u001b[1;32m    140\u001b[0m             \u001b[0;32mwith\u001b[0m \u001b[0mCustomObjectScope\u001b[0m\u001b[0;34m(\u001b[0m\u001b[0mcustom_objects\u001b[0m\u001b[0;34m)\u001b[0m\u001b[0;34m:\u001b[0m\u001b[0;34m\u001b[0m\u001b[0m\n\u001b[1;32m    141\u001b[0m                 \u001b[0;32mreturn\u001b[0m \u001b[0mcls\u001b[0m\u001b[0;34m.\u001b[0m\u001b[0mfrom_config\u001b[0m\u001b[0;34m(\u001b[0m\u001b[0mconfig\u001b[0m\u001b[0;34m[\u001b[0m\u001b[0;34m'config'\u001b[0m\u001b[0;34m]\u001b[0m\u001b[0;34m)\u001b[0m\u001b[0;34m\u001b[0m\u001b[0m\n",
      "\u001b[0;32m/Users/mader/anaconda/lib/python3.5/site-packages/keras/engine/topology.py\u001b[0m in \u001b[0;36mfrom_config\u001b[0;34m(cls, config, custom_objects)\u001b[0m\n\u001b[1;32m   2448\u001b[0m \u001b[0;34m\u001b[0m\u001b[0m\n\u001b[1;32m   2449\u001b[0m         \u001b[0;32mfor\u001b[0m \u001b[0mlayer_data\u001b[0m \u001b[0;32min\u001b[0m \u001b[0mconfig\u001b[0m\u001b[0;34m[\u001b[0m\u001b[0;34m'layers'\u001b[0m\u001b[0;34m]\u001b[0m\u001b[0;34m:\u001b[0m\u001b[0;34m\u001b[0m\u001b[0m\n\u001b[0;32m-> 2450\u001b[0;31m             \u001b[0mprocess_layer\u001b[0m\u001b[0;34m(\u001b[0m\u001b[0mlayer_data\u001b[0m\u001b[0;34m)\u001b[0m\u001b[0;34m\u001b[0m\u001b[0m\n\u001b[0m\u001b[1;32m   2451\u001b[0m \u001b[0;34m\u001b[0m\u001b[0m\n\u001b[1;32m   2452\u001b[0m         \u001b[0mname\u001b[0m \u001b[0;34m=\u001b[0m \u001b[0mconfig\u001b[0m\u001b[0;34m.\u001b[0m\u001b[0mget\u001b[0m\u001b[0;34m(\u001b[0m\u001b[0;34m'name'\u001b[0m\u001b[0;34m)\u001b[0m\u001b[0;34m\u001b[0m\u001b[0m\n",
      "\u001b[0;32m/Users/mader/anaconda/lib/python3.5/site-packages/keras/engine/topology.py\u001b[0m in \u001b[0;36mprocess_layer\u001b[0;34m(layer_data)\u001b[0m\n\u001b[1;32m   2417\u001b[0m             \u001b[0;32mfrom\u001b[0m \u001b[0;34m.\u001b[0m\u001b[0;34m.\u001b[0m\u001b[0mlayers\u001b[0m \u001b[0;32mimport\u001b[0m \u001b[0mdeserialize\u001b[0m \u001b[0;32mas\u001b[0m \u001b[0mdeserialize_layer\u001b[0m\u001b[0;34m\u001b[0m\u001b[0m\n\u001b[1;32m   2418\u001b[0m             layer = deserialize_layer(layer_data,\n\u001b[0;32m-> 2419\u001b[0;31m                                       custom_objects=custom_objects)\n\u001b[0m\u001b[1;32m   2420\u001b[0m             \u001b[0mcreated_layers\u001b[0m\u001b[0;34m[\u001b[0m\u001b[0mlayer_name\u001b[0m\u001b[0;34m]\u001b[0m \u001b[0;34m=\u001b[0m \u001b[0mlayer\u001b[0m\u001b[0;34m\u001b[0m\u001b[0m\n\u001b[1;32m   2421\u001b[0m \u001b[0;34m\u001b[0m\u001b[0m\n",
      "\u001b[0;32m/Users/mader/anaconda/lib/python3.5/site-packages/keras/layers/__init__.py\u001b[0m in \u001b[0;36mdeserialize\u001b[0;34m(config, custom_objects)\u001b[0m\n\u001b[1;32m     52\u001b[0m                                     \u001b[0mmodule_objects\u001b[0m\u001b[0;34m=\u001b[0m\u001b[0mglobs\u001b[0m\u001b[0;34m,\u001b[0m\u001b[0;34m\u001b[0m\u001b[0m\n\u001b[1;32m     53\u001b[0m                                     \u001b[0mcustom_objects\u001b[0m\u001b[0;34m=\u001b[0m\u001b[0mcustom_objects\u001b[0m\u001b[0;34m,\u001b[0m\u001b[0;34m\u001b[0m\u001b[0m\n\u001b[0;32m---> 54\u001b[0;31m                                     printable_module_name='layer')\n\u001b[0m",
      "\u001b[0;32m/Users/mader/anaconda/lib/python3.5/site-packages/keras/utils/generic_utils.py\u001b[0m in \u001b[0;36mdeserialize_keras_object\u001b[0;34m(identifier, module_objects, custom_objects, printable_module_name)\u001b[0m\n\u001b[1;32m    139\u001b[0m                                                            list(custom_objects.items())))\n\u001b[1;32m    140\u001b[0m             \u001b[0;32mwith\u001b[0m \u001b[0mCustomObjectScope\u001b[0m\u001b[0;34m(\u001b[0m\u001b[0mcustom_objects\u001b[0m\u001b[0;34m)\u001b[0m\u001b[0;34m:\u001b[0m\u001b[0;34m\u001b[0m\u001b[0m\n\u001b[0;32m--> 141\u001b[0;31m                 \u001b[0;32mreturn\u001b[0m \u001b[0mcls\u001b[0m\u001b[0;34m.\u001b[0m\u001b[0mfrom_config\u001b[0m\u001b[0;34m(\u001b[0m\u001b[0mconfig\u001b[0m\u001b[0;34m[\u001b[0m\u001b[0;34m'config'\u001b[0m\u001b[0;34m]\u001b[0m\u001b[0;34m)\u001b[0m\u001b[0;34m\u001b[0m\u001b[0m\n\u001b[0m\u001b[1;32m    142\u001b[0m         \u001b[0;32melse\u001b[0m\u001b[0;34m:\u001b[0m\u001b[0;34m\u001b[0m\u001b[0m\n\u001b[1;32m    143\u001b[0m             \u001b[0;31m# Then `cls` may be a function returning a class.\u001b[0m\u001b[0;34m\u001b[0m\u001b[0;34m\u001b[0m\u001b[0m\n",
      "\u001b[0;32m/Users/mader/anaconda/lib/python3.5/site-packages/keras/engine/topology.py\u001b[0m in \u001b[0;36mfrom_config\u001b[0;34m(cls, config)\u001b[0m\n\u001b[1;32m   1240\u001b[0m             \u001b[0mA\u001b[0m \u001b[0mlayer\u001b[0m \u001b[0minstance\u001b[0m\u001b[0;34m.\u001b[0m\u001b[0;34m\u001b[0m\u001b[0m\n\u001b[1;32m   1241\u001b[0m         \"\"\"\n\u001b[0;32m-> 1242\u001b[0;31m         \u001b[0;32mreturn\u001b[0m \u001b[0mcls\u001b[0m\u001b[0;34m(\u001b[0m\u001b[0;34m**\u001b[0m\u001b[0mconfig\u001b[0m\u001b[0;34m)\u001b[0m\u001b[0;34m\u001b[0m\u001b[0m\n\u001b[0m\u001b[1;32m   1243\u001b[0m \u001b[0;34m\u001b[0m\u001b[0m\n\u001b[1;32m   1244\u001b[0m     \u001b[0;32mdef\u001b[0m \u001b[0mcount_params\u001b[0m\u001b[0;34m(\u001b[0m\u001b[0mself\u001b[0m\u001b[0;34m)\u001b[0m\u001b[0;34m:\u001b[0m\u001b[0;34m\u001b[0m\u001b[0m\n",
      "\u001b[0;32m/Users/mader/anaconda/lib/python3.5/site-packages/keras/legacy/interfaces.py\u001b[0m in \u001b[0;36mwrapper\u001b[0;34m(*args, **kwargs)\u001b[0m\n\u001b[1;32m     85\u001b[0m                 warnings.warn('Update your `' + object_name +\n\u001b[1;32m     86\u001b[0m                               '` call to the Keras 2 API: ' + signature, stacklevel=2)\n\u001b[0;32m---> 87\u001b[0;31m             \u001b[0;32mreturn\u001b[0m \u001b[0mfunc\u001b[0m\u001b[0;34m(\u001b[0m\u001b[0;34m*\u001b[0m\u001b[0margs\u001b[0m\u001b[0;34m,\u001b[0m \u001b[0;34m**\u001b[0m\u001b[0mkwargs\u001b[0m\u001b[0;34m)\u001b[0m\u001b[0;34m\u001b[0m\u001b[0m\n\u001b[0m\u001b[1;32m     88\u001b[0m         \u001b[0mwrapper\u001b[0m\u001b[0;34m.\u001b[0m\u001b[0m_original_function\u001b[0m \u001b[0;34m=\u001b[0m \u001b[0mfunc\u001b[0m\u001b[0;34m\u001b[0m\u001b[0m\n\u001b[1;32m     89\u001b[0m         \u001b[0;32mreturn\u001b[0m \u001b[0mwrapper\u001b[0m\u001b[0;34m\u001b[0m\u001b[0m\n",
      "\u001b[0;32m/Users/mader/anaconda/lib/python3.5/site-packages/keras/layers/convolutional.py\u001b[0m in \u001b[0;36m__init__\u001b[0;34m(self, filters, kernel_size, strides, padding, data_format, dilation_rate, activation, use_bias, kernel_initializer, bias_initializer, kernel_regularizer, bias_regularizer, activity_regularizer, kernel_constraint, bias_constraint, **kwargs)\u001b[0m\n\u001b[1;32m    581\u001b[0m             \u001b[0mkernel_constraint\u001b[0m\u001b[0;34m=\u001b[0m\u001b[0mkernel_constraint\u001b[0m\u001b[0;34m,\u001b[0m\u001b[0;34m\u001b[0m\u001b[0m\n\u001b[1;32m    582\u001b[0m             \u001b[0mbias_constraint\u001b[0m\u001b[0;34m=\u001b[0m\u001b[0mbias_constraint\u001b[0m\u001b[0;34m,\u001b[0m\u001b[0;34m\u001b[0m\u001b[0m\n\u001b[0;32m--> 583\u001b[0;31m             **kwargs)\n\u001b[0m\u001b[1;32m    584\u001b[0m         \u001b[0mself\u001b[0m\u001b[0;34m.\u001b[0m\u001b[0minput_spec\u001b[0m \u001b[0;34m=\u001b[0m \u001b[0mInputSpec\u001b[0m\u001b[0;34m(\u001b[0m\u001b[0mndim\u001b[0m\u001b[0;34m=\u001b[0m\u001b[0;36m5\u001b[0m\u001b[0;34m)\u001b[0m\u001b[0;34m\u001b[0m\u001b[0m\n\u001b[1;32m    585\u001b[0m \u001b[0;34m\u001b[0m\u001b[0m\n",
      "\u001b[0;32m/Users/mader/anaconda/lib/python3.5/site-packages/keras/layers/convolutional.py\u001b[0m in \u001b[0;36m__init__\u001b[0;34m(self, rank, filters, kernel_size, strides, padding, data_format, dilation_rate, activation, use_bias, kernel_initializer, bias_initializer, kernel_regularizer, bias_regularizer, activity_regularizer, kernel_constraint, bias_constraint, **kwargs)\u001b[0m\n\u001b[1;32m    110\u001b[0m         \u001b[0mself\u001b[0m\u001b[0;34m.\u001b[0m\u001b[0mkernel_initializer\u001b[0m \u001b[0;34m=\u001b[0m \u001b[0minitializers\u001b[0m\u001b[0;34m.\u001b[0m\u001b[0mget\u001b[0m\u001b[0;34m(\u001b[0m\u001b[0mkernel_initializer\u001b[0m\u001b[0;34m)\u001b[0m\u001b[0;34m\u001b[0m\u001b[0m\n\u001b[1;32m    111\u001b[0m         \u001b[0mself\u001b[0m\u001b[0;34m.\u001b[0m\u001b[0mbias_initializer\u001b[0m \u001b[0;34m=\u001b[0m \u001b[0minitializers\u001b[0m\u001b[0;34m.\u001b[0m\u001b[0mget\u001b[0m\u001b[0;34m(\u001b[0m\u001b[0mbias_initializer\u001b[0m\u001b[0;34m)\u001b[0m\u001b[0;34m\u001b[0m\u001b[0m\n\u001b[0;32m--> 112\u001b[0;31m         \u001b[0mself\u001b[0m\u001b[0;34m.\u001b[0m\u001b[0mkernel_regularizer\u001b[0m \u001b[0;34m=\u001b[0m \u001b[0mregularizers\u001b[0m\u001b[0;34m.\u001b[0m\u001b[0mget\u001b[0m\u001b[0;34m(\u001b[0m\u001b[0mkernel_regularizer\u001b[0m\u001b[0;34m)\u001b[0m\u001b[0;34m\u001b[0m\u001b[0m\n\u001b[0m\u001b[1;32m    113\u001b[0m         \u001b[0mself\u001b[0m\u001b[0;34m.\u001b[0m\u001b[0mbias_regularizer\u001b[0m \u001b[0;34m=\u001b[0m \u001b[0mregularizers\u001b[0m\u001b[0;34m.\u001b[0m\u001b[0mget\u001b[0m\u001b[0;34m(\u001b[0m\u001b[0mbias_regularizer\u001b[0m\u001b[0;34m)\u001b[0m\u001b[0;34m\u001b[0m\u001b[0m\n\u001b[1;32m    114\u001b[0m         \u001b[0mself\u001b[0m\u001b[0;34m.\u001b[0m\u001b[0mactivity_regularizer\u001b[0m \u001b[0;34m=\u001b[0m \u001b[0mregularizers\u001b[0m\u001b[0;34m.\u001b[0m\u001b[0mget\u001b[0m\u001b[0;34m(\u001b[0m\u001b[0mactivity_regularizer\u001b[0m\u001b[0;34m)\u001b[0m\u001b[0;34m\u001b[0m\u001b[0m\n",
      "\u001b[0;32m/Users/mader/anaconda/lib/python3.5/site-packages/keras/regularizers.py\u001b[0m in \u001b[0;36mget\u001b[0;34m(identifier)\u001b[0m\n\u001b[1;32m     73\u001b[0m         \u001b[0;32mreturn\u001b[0m \u001b[0;32mNone\u001b[0m\u001b[0;34m\u001b[0m\u001b[0m\n\u001b[1;32m     74\u001b[0m     \u001b[0;32mif\u001b[0m \u001b[0misinstance\u001b[0m\u001b[0;34m(\u001b[0m\u001b[0midentifier\u001b[0m\u001b[0;34m,\u001b[0m \u001b[0mdict\u001b[0m\u001b[0;34m)\u001b[0m\u001b[0;34m:\u001b[0m\u001b[0;34m\u001b[0m\u001b[0m\n\u001b[0;32m---> 75\u001b[0;31m         \u001b[0;32mreturn\u001b[0m \u001b[0mdeserialize\u001b[0m\u001b[0;34m(\u001b[0m\u001b[0midentifier\u001b[0m\u001b[0;34m)\u001b[0m\u001b[0;34m\u001b[0m\u001b[0m\n\u001b[0m\u001b[1;32m     76\u001b[0m     \u001b[0;32melif\u001b[0m \u001b[0misinstance\u001b[0m\u001b[0;34m(\u001b[0m\u001b[0midentifier\u001b[0m\u001b[0;34m,\u001b[0m \u001b[0msix\u001b[0m\u001b[0;34m.\u001b[0m\u001b[0mstring_types\u001b[0m\u001b[0;34m)\u001b[0m\u001b[0;34m:\u001b[0m\u001b[0;34m\u001b[0m\u001b[0m\n\u001b[1;32m     77\u001b[0m         \u001b[0mconfig\u001b[0m \u001b[0;34m=\u001b[0m \u001b[0;34m{\u001b[0m\u001b[0;34m'class_name'\u001b[0m\u001b[0;34m:\u001b[0m \u001b[0mstr\u001b[0m\u001b[0;34m(\u001b[0m\u001b[0midentifier\u001b[0m\u001b[0;34m)\u001b[0m\u001b[0;34m,\u001b[0m \u001b[0;34m'config'\u001b[0m\u001b[0;34m:\u001b[0m \u001b[0;34m{\u001b[0m\u001b[0;34m}\u001b[0m\u001b[0;34m}\u001b[0m\u001b[0;34m\u001b[0m\u001b[0m\n",
      "\u001b[0;32m/Users/mader/anaconda/lib/python3.5/site-packages/keras/regularizers.py\u001b[0m in \u001b[0;36mdeserialize\u001b[0;34m(config, custom_objects)\u001b[0m\n\u001b[1;32m     66\u001b[0m                                     \u001b[0mmodule_objects\u001b[0m\u001b[0;34m=\u001b[0m\u001b[0mglobals\u001b[0m\u001b[0;34m(\u001b[0m\u001b[0;34m)\u001b[0m\u001b[0;34m,\u001b[0m\u001b[0;34m\u001b[0m\u001b[0m\n\u001b[1;32m     67\u001b[0m                                     \u001b[0mcustom_objects\u001b[0m\u001b[0;34m=\u001b[0m\u001b[0mcustom_objects\u001b[0m\u001b[0;34m,\u001b[0m\u001b[0;34m\u001b[0m\u001b[0m\n\u001b[0;32m---> 68\u001b[0;31m                                     printable_module_name='regularizer')\n\u001b[0m\u001b[1;32m     69\u001b[0m \u001b[0;34m\u001b[0m\u001b[0m\n\u001b[1;32m     70\u001b[0m \u001b[0;34m\u001b[0m\u001b[0m\n",
      "\u001b[0;32m/Users/mader/anaconda/lib/python3.5/site-packages/keras/utils/generic_utils.py\u001b[0m in \u001b[0;36mdeserialize_keras_object\u001b[0;34m(identifier, module_objects, custom_objects, printable_module_name)\u001b[0m\n\u001b[1;32m    120\u001b[0m         \u001b[0mconfig\u001b[0m \u001b[0;34m=\u001b[0m \u001b[0midentifier\u001b[0m\u001b[0;34m\u001b[0m\u001b[0m\n\u001b[1;32m    121\u001b[0m         \u001b[0;32mif\u001b[0m \u001b[0;34m'class_name'\u001b[0m \u001b[0;32mnot\u001b[0m \u001b[0;32min\u001b[0m \u001b[0mconfig\u001b[0m \u001b[0;32mor\u001b[0m \u001b[0;34m'config'\u001b[0m \u001b[0;32mnot\u001b[0m \u001b[0;32min\u001b[0m \u001b[0mconfig\u001b[0m\u001b[0;34m:\u001b[0m\u001b[0;34m\u001b[0m\u001b[0m\n\u001b[0;32m--> 122\u001b[0;31m             \u001b[0;32mraise\u001b[0m \u001b[0mValueError\u001b[0m\u001b[0;34m(\u001b[0m\u001b[0;34m'Improper config format: '\u001b[0m \u001b[0;34m+\u001b[0m \u001b[0mstr\u001b[0m\u001b[0;34m(\u001b[0m\u001b[0mconfig\u001b[0m\u001b[0;34m)\u001b[0m\u001b[0;34m)\u001b[0m\u001b[0;34m\u001b[0m\u001b[0m\n\u001b[0m\u001b[1;32m    123\u001b[0m         \u001b[0mclass_name\u001b[0m \u001b[0;34m=\u001b[0m \u001b[0mconfig\u001b[0m\u001b[0;34m[\u001b[0m\u001b[0;34m'class_name'\u001b[0m\u001b[0;34m]\u001b[0m\u001b[0;34m\u001b[0m\u001b[0m\n\u001b[1;32m    124\u001b[0m         \u001b[0;32mif\u001b[0m \u001b[0mcustom_objects\u001b[0m \u001b[0;32mand\u001b[0m \u001b[0mclass_name\u001b[0m \u001b[0;32min\u001b[0m \u001b[0mcustom_objects\u001b[0m\u001b[0;34m:\u001b[0m\u001b[0;34m\u001b[0m\u001b[0m\n",
      "\u001b[0;31mValueError\u001b[0m: Improper config format: {'name': 'L1L2Regularizer', 'l2': 9.999999747378752e-05, 'l1': 0.0}"
     ]
    }
   ],
   "source": [
    "load_model(node_models[1], \n",
    "           compile=True, \n",
    "           custom_objects=dict(L1L2Regularizer = lambda x: x))"
   ]
  },
  {
   "cell_type": "code",
   "execution_count": 28,
   "metadata": {},
   "outputs": [
    {
     "name": "stdout",
     "output_type": "stream",
     "text": [
      "[('keras_version', b'1.2.0'), ('model_config', b'{\"class_name\": \"Model\", \"config\": {\"layers\": [{\"class_name\": \"InputLayer\", \"config\": {\"batch_input_shape\": [null, 1, 64, 64, 64], \"input_dtype\": \"float32\", \"sparse\": false, \"name\": \"input_2\"}, \"inbound_nodes\": [], \"name\": \"input_2\"}, {\"class_name\": \"Convolution3D\", \"config\": {\"W_constraint\": null, \"b_constraint\": null, \"name\": \"convolution3d_6\", \"kernel_dim2\": 3, \"kernel_dim1\": 3, \"activation\": \"linear\", \"trainable\": true, \"dim_ordering\": \"th\", \"kernel_dim3\": 3, \"subsample\": [1, 1, 1], \"init\": \"glorot_uniform\", \"bias\": true, \"nb_filter\": 8, \"b_regularizer\": null, \"W_regularizer\": {\"l2\": 9.999999747378752e-05, \"name\": \"L1L2Regularizer\", \"l1\": 0.0}, \"activity_regularizer\": null, \"border_mode\": \"same\"}, \"inbound_nodes\": [[[\"input_2\", 0, 0]]], \"name\": \"convolution3d_6\"}, {\"class_name\": \"BatchNormalization\", \"config\": {\"gamma_regularizer\": null, \"name\": \"batchnormalization_13\", \"epsilon\": 0.001, \"trainable\": true, \"mode\": 0, \"beta_regularizer\": null, \"momentum\": 0.99, \"axis\": 1}, \"inbound_nodes\": [[[\"convolution3d_6\", 0, 0]]], \"name\": \"batchnormalization_13\"}, {\"class_name\": \"LeakyReLU\", \"config\": {\"alpha\": 0.1, \"trainable\": true, \"name\": \"leakyrelu_12\"}, \"inbound_nodes\": [[[\"batchnormalization_13\", 0, 0]]], \"name\": \"leakyrelu_12\"}, {\"class_name\": \"MaxPooling3D\", \"config\": {\"name\": \"maxpooling3d_5\", \"trainable\": true, \"dim_ordering\": \"th\", \"pool_size\": [2, 2, 2], \"strides\": [2, 2, 2], \"border_mode\": \"valid\"}, \"inbound_nodes\": [[[\"leakyrelu_12\", 0, 0]]], \"name\": \"maxpooling3d_5\"}, {\"class_name\": \"AveragePooling3D\", \"config\": {\"name\": \"averagepooling3d_5\", \"trainable\": true, \"dim_ordering\": \"th\", \"pool_size\": [2, 2, 2], \"strides\": [2, 2, 2], \"border_mode\": \"valid\"}, \"inbound_nodes\": [[[\"input_2\", 0, 0]]], \"name\": \"averagepooling3d_5\"}, {\"class_name\": \"Merge\", \"config\": {\"name\": \"merge_5\", \"concat_axis\": 1, \"mode_type\": \"raw\", \"dot_axes\": -1, \"output_mask_type\": \"raw\", \"arguments\": {}, \"output_mask\": null, \"mode\": \"concat\", \"output_shape\": null, \"output_shape_type\": \"raw\"}, \"inbound_nodes\": [[[\"maxpooling3d_5\", 0, 0], [\"averagepooling3d_5\", 0, 0]]], \"name\": \"merge_5\"}, {\"class_name\": \"Convolution3D\", \"config\": {\"W_constraint\": null, \"b_constraint\": null, \"name\": \"convolution3d_7\", \"kernel_dim2\": 3, \"kernel_dim1\": 3, \"activation\": \"linear\", \"trainable\": true, \"dim_ordering\": \"th\", \"kernel_dim3\": 3, \"subsample\": [1, 1, 1], \"init\": \"glorot_uniform\", \"bias\": true, \"nb_filter\": 24, \"b_regularizer\": null, \"W_regularizer\": {\"l2\": 9.999999747378752e-05, \"name\": \"L1L2Regularizer\", \"l1\": 0.0}, \"activity_regularizer\": null, \"border_mode\": \"same\"}, \"inbound_nodes\": [[[\"merge_5\", 0, 0]]], \"name\": \"convolution3d_7\"}, {\"class_name\": \"BatchNormalization\", \"config\": {\"gamma_regularizer\": null, \"name\": \"batchnormalization_14\", \"epsilon\": 0.001, \"trainable\": true, \"mode\": 0, \"beta_regularizer\": null, \"momentum\": 0.99, \"axis\": 1}, \"inbound_nodes\": [[[\"convolution3d_7\", 0, 0]]], \"name\": \"batchnormalization_14\"}, {\"class_name\": \"LeakyReLU\", \"config\": {\"alpha\": 0.1, \"trainable\": true, \"name\": \"leakyrelu_13\"}, \"inbound_nodes\": [[[\"batchnormalization_14\", 0, 0]]], \"name\": \"leakyrelu_13\"}, {\"class_name\": \"MaxPooling3D\", \"config\": {\"name\": \"maxpooling3d_6\", \"trainable\": true, \"dim_ordering\": \"th\", \"pool_size\": [2, 2, 2], \"strides\": [2, 2, 2], \"border_mode\": \"valid\"}, \"inbound_nodes\": [[[\"leakyrelu_13\", 0, 0]]], \"name\": \"maxpooling3d_6\"}, {\"class_name\": \"AveragePooling3D\", \"config\": {\"name\": \"averagepooling3d_6\", \"trainable\": true, \"dim_ordering\": \"th\", \"pool_size\": [2, 2, 2], \"strides\": [2, 2, 2], \"border_mode\": \"valid\"}, \"inbound_nodes\": [[[\"averagepooling3d_5\", 0, 0]]], \"name\": \"averagepooling3d_6\"}, {\"class_name\": \"Merge\", \"config\": {\"name\": \"merge_6\", \"concat_axis\": 1, \"mode_type\": \"raw\", \"dot_axes\": -1, \"output_mask_type\": \"raw\", \"arguments\": {}, \"output_mask\": null, \"mode\": \"concat\", \"output_shape\": null, \"output_shape_type\": \"raw\"}, \"inbound_nodes\": [[[\"maxpooling3d_6\", 0, 0], [\"averagepooling3d_6\", 0, 0]]], \"name\": \"merge_6\"}, {\"class_name\": \"Convolution3D\", \"config\": {\"W_constraint\": null, \"b_constraint\": null, \"name\": \"convolution3d_8\", \"kernel_dim2\": 3, \"kernel_dim1\": 3, \"activation\": \"linear\", \"trainable\": true, \"dim_ordering\": \"th\", \"kernel_dim3\": 3, \"subsample\": [1, 1, 1], \"init\": \"glorot_uniform\", \"bias\": true, \"nb_filter\": 64, \"b_regularizer\": null, \"W_regularizer\": {\"l2\": 9.999999747378752e-05, \"name\": \"L1L2Regularizer\", \"l1\": 0.0}, \"activity_regularizer\": null, \"border_mode\": \"same\"}, \"inbound_nodes\": [[[\"merge_6\", 0, 0]]], \"name\": \"convolution3d_8\"}, {\"class_name\": \"BatchNormalization\", \"config\": {\"gamma_regularizer\": null, \"name\": \"batchnormalization_15\", \"epsilon\": 0.001, \"trainable\": true, \"mode\": 0, \"beta_regularizer\": null, \"momentum\": 0.99, \"axis\": 1}, \"inbound_nodes\": [[[\"convolution3d_8\", 0, 0]]], \"name\": \"batchnormalization_15\"}, {\"class_name\": \"LeakyReLU\", \"config\": {\"alpha\": 0.1, \"trainable\": true, \"name\": \"leakyrelu_14\"}, \"inbound_nodes\": [[[\"batchnormalization_15\", 0, 0]]], \"name\": \"leakyrelu_14\"}, {\"class_name\": \"MaxPooling3D\", \"config\": {\"name\": \"maxpooling3d_7\", \"trainable\": true, \"dim_ordering\": \"th\", \"pool_size\": [2, 2, 2], \"strides\": [2, 2, 2], \"border_mode\": \"valid\"}, \"inbound_nodes\": [[[\"leakyrelu_14\", 0, 0]]], \"name\": \"maxpooling3d_7\"}, {\"class_name\": \"AveragePooling3D\", \"config\": {\"name\": \"averagepooling3d_7\", \"trainable\": true, \"dim_ordering\": \"th\", \"pool_size\": [2, 2, 2], \"strides\": [2, 2, 2], \"border_mode\": \"valid\"}, \"inbound_nodes\": [[[\"averagepooling3d_6\", 0, 0]]], \"name\": \"averagepooling3d_7\"}, {\"class_name\": \"Merge\", \"config\": {\"name\": \"merge_7\", \"concat_axis\": 1, \"mode_type\": \"raw\", \"dot_axes\": -1, \"output_mask_type\": \"raw\", \"arguments\": {}, \"output_mask\": null, \"mode\": \"concat\", \"output_shape\": null, \"output_shape_type\": \"raw\"}, \"inbound_nodes\": [[[\"maxpooling3d_7\", 0, 0], [\"averagepooling3d_7\", 0, 0]]], \"name\": \"merge_7\"}, {\"class_name\": \"Convolution3D\", \"config\": {\"W_constraint\": null, \"b_constraint\": null, \"name\": \"convolution3d_9\", \"kernel_dim2\": 3, \"kernel_dim1\": 3, \"activation\": \"linear\", \"trainable\": true, \"dim_ordering\": \"th\", \"kernel_dim3\": 3, \"subsample\": [1, 1, 1], \"init\": \"glorot_uniform\", \"bias\": true, \"nb_filter\": 72, \"b_regularizer\": null, \"W_regularizer\": {\"l2\": 9.999999747378752e-05, \"name\": \"L1L2Regularizer\", \"l1\": 0.0}, \"activity_regularizer\": null, \"border_mode\": \"same\"}, \"inbound_nodes\": [[[\"merge_7\", 0, 0]]], \"name\": \"convolution3d_9\"}, {\"class_name\": \"BatchNormalization\", \"config\": {\"gamma_regularizer\": null, \"name\": \"batchnormalization_16\", \"epsilon\": 0.001, \"trainable\": true, \"mode\": 0, \"beta_regularizer\": null, \"momentum\": 0.99, \"axis\": 1}, \"inbound_nodes\": [[[\"convolution3d_9\", 0, 0]]], \"name\": \"batchnormalization_16\"}, {\"class_name\": \"LeakyReLU\", \"config\": {\"alpha\": 0.1, \"trainable\": true, \"name\": \"leakyrelu_15\"}, \"inbound_nodes\": [[[\"batchnormalization_16\", 0, 0]]], \"name\": \"leakyrelu_15\"}, {\"class_name\": \"MaxPooling3D\", \"config\": {\"name\": \"maxpooling3d_8\", \"trainable\": true, \"dim_ordering\": \"th\", \"pool_size\": [2, 2, 2], \"strides\": [2, 2, 2], \"border_mode\": \"valid\"}, \"inbound_nodes\": [[[\"leakyrelu_15\", 0, 0]]], \"name\": \"maxpooling3d_8\"}, {\"class_name\": \"AveragePooling3D\", \"config\": {\"name\": \"averagepooling3d_8\", \"trainable\": true, \"dim_ordering\": \"th\", \"pool_size\": [2, 2, 2], \"strides\": [2, 2, 2], \"border_mode\": \"valid\"}, \"inbound_nodes\": [[[\"averagepooling3d_7\", 0, 0]]], \"name\": \"averagepooling3d_8\"}, {\"class_name\": \"Merge\", \"config\": {\"name\": \"merge_8\", \"concat_axis\": 1, \"mode_type\": \"raw\", \"dot_axes\": -1, \"output_mask_type\": \"raw\", \"arguments\": {}, \"output_mask\": null, \"mode\": \"concat\", \"output_shape\": null, \"output_shape_type\": \"raw\"}, \"inbound_nodes\": [[[\"maxpooling3d_8\", 0, 0], [\"averagepooling3d_8\", 0, 0]]], \"name\": \"merge_8\"}, {\"class_name\": \"Convolution3D\", \"config\": {\"W_constraint\": null, \"b_constraint\": null, \"name\": \"convolution3d_10\", \"kernel_dim2\": 3, \"kernel_dim1\": 3, \"activation\": \"linear\", \"trainable\": true, \"dim_ordering\": \"th\", \"kernel_dim3\": 3, \"subsample\": [1, 1, 1], \"init\": \"glorot_uniform\", \"bias\": true, \"nb_filter\": 72, \"b_regularizer\": null, \"W_regularizer\": {\"l2\": 9.999999747378752e-05, \"name\": \"L1L2Regularizer\", \"l1\": 0.0}, \"activity_regularizer\": null, \"border_mode\": \"same\"}, \"inbound_nodes\": [[[\"merge_8\", 0, 0]]], \"name\": \"convolution3d_10\"}, {\"class_name\": \"BatchNormalization\", \"config\": {\"gamma_regularizer\": null, \"name\": \"batchnormalization_17\", \"epsilon\": 0.001, \"trainable\": true, \"mode\": 0, \"beta_regularizer\": null, \"momentum\": 0.99, \"axis\": 1}, \"inbound_nodes\": [[[\"convolution3d_10\", 0, 0]]], \"name\": \"batchnormalization_17\"}, {\"class_name\": \"LeakyReLU\", \"config\": {\"alpha\": 0.1, \"trainable\": true, \"name\": \"leakyrelu_16\"}, \"inbound_nodes\": [[[\"batchnormalization_17\", 0, 0]]], \"name\": \"leakyrelu_16\"}, {\"class_name\": \"GlobalMaxPooling3D\", \"config\": {\"trainable\": true, \"name\": \"globalmaxpooling3d_2\", \"dim_ordering\": \"th\"}, \"inbound_nodes\": [[[\"leakyrelu_16\", 0, 0]]], \"name\": \"globalmaxpooling3d_2\"}, {\"class_name\": \"BatchNormalization\", \"config\": {\"gamma_regularizer\": null, \"name\": \"batchnormalization_18\", \"epsilon\": 0.001, \"trainable\": true, \"mode\": 0, \"beta_regularizer\": null, \"momentum\": 0.99, \"axis\": -1}, \"inbound_nodes\": [[[\"globalmaxpooling3d_2\", 0, 0]]], \"name\": \"batchnormalization_18\"}, {\"class_name\": \"Dense\", \"config\": {\"W_constraint\": null, \"b_constraint\": null, \"name\": \"dense_7\", \"activity_regularizer\": null, \"trainable\": true, \"init\": \"glorot_uniform\", \"bias\": true, \"input_dim\": 72, \"b_regularizer\": null, \"W_regularizer\": {\"l2\": 9.999999747378752e-05, \"name\": \"L1L2Regularizer\", \"l1\": 0.0}, \"activation\": \"linear\", \"output_dim\": 32}, \"inbound_nodes\": [[[\"batchnormalization_18\", 0, 0]]], \"name\": \"dense_7\"}, {\"class_name\": \"Dense\", \"config\": {\"W_constraint\": null, \"b_constraint\": null, \"name\": \"dense_10\", \"activity_regularizer\": null, \"trainable\": true, \"init\": \"glorot_uniform\", \"bias\": true, \"input_dim\": 72, \"b_regularizer\": null, \"W_regularizer\": {\"l2\": 9.999999747378752e-05, \"name\": \"L1L2Regularizer\", \"l1\": 0.0}, \"activation\": \"linear\", \"output_dim\": 32}, \"inbound_nodes\": [[[\"batchnormalization_18\", 0, 0]]], \"name\": \"dense_10\"}, {\"class_name\": \"Dense\", \"config\": {\"W_constraint\": null, \"b_constraint\": null, \"name\": \"dense_11\", \"activity_regularizer\": null, \"trainable\": true, \"init\": \"glorot_uniform\", \"bias\": true, \"input_dim\": 72, \"b_regularizer\": null, \"W_regularizer\": {\"l2\": 9.999999747378752e-05, \"name\": \"L1L2Regularizer\", \"l1\": 0.0}, \"activation\": \"linear\", \"output_dim\": 32}, \"inbound_nodes\": [[[\"batchnormalization_18\", 0, 0]]], \"name\": \"dense_11\"}, {\"class_name\": \"Dense\", \"config\": {\"W_constraint\": null, \"b_constraint\": null, \"name\": \"dense_12\", \"activity_regularizer\": null, \"trainable\": true, \"init\": \"glorot_uniform\", \"bias\": true, \"input_dim\": 72, \"b_regularizer\": null, \"W_regularizer\": {\"l2\": 9.999999747378752e-05, \"name\": \"L1L2Regularizer\", \"l1\": 0.0}, \"activation\": \"linear\", \"output_dim\": 32}, \"inbound_nodes\": [[[\"batchnormalization_18\", 0, 0]]], \"name\": \"dense_12\"}, {\"class_name\": \"Dense\", \"config\": {\"W_constraint\": null, \"b_constraint\": null, \"name\": \"dense_8\", \"activity_regularizer\": null, \"trainable\": true, \"init\": \"glorot_uniform\", \"bias\": true, \"input_dim\": 72, \"b_regularizer\": null, \"W_regularizer\": {\"l2\": 9.999999747378752e-05, \"name\": \"L1L2Regularizer\", \"l1\": 0.0}, \"activation\": \"linear\", \"output_dim\": 32}, \"inbound_nodes\": [[[\"batchnormalization_18\", 0, 0]]], \"name\": \"dense_8\"}, {\"class_name\": \"BatchNormalization\", \"config\": {\"gamma_regularizer\": null, \"name\": \"batchnormalization_19\", \"epsilon\": 0.001, \"trainable\": true, \"mode\": 0, \"beta_regularizer\": null, \"momentum\": 0.99, \"axis\": -1}, \"inbound_nodes\": [[[\"dense_7\", 0, 0]]], \"name\": \"batchnormalization_19\"}, {\"class_name\": \"BatchNormalization\", \"config\": {\"gamma_regularizer\": null, \"name\": \"batchnormalization_22\", \"epsilon\": 0.001, \"trainable\": true, \"mode\": 0, \"beta_regularizer\": null, \"momentum\": 0.99, \"axis\": -1}, \"inbound_nodes\": [[[\"dense_10\", 0, 0]]], \"name\": \"batchnormalization_22\"}, {\"class_name\": \"BatchNormalization\", \"config\": {\"gamma_regularizer\": null, \"name\": \"batchnormalization_23\", \"epsilon\": 0.001, \"trainable\": true, \"mode\": 0, \"beta_regularizer\": null, \"momentum\": 0.99, \"axis\": -1}, \"inbound_nodes\": [[[\"dense_11\", 0, 0]]], \"name\": \"batchnormalization_23\"}, {\"class_name\": \"BatchNormalization\", \"config\": {\"gamma_regularizer\": null, \"name\": \"batchnormalization_24\", \"epsilon\": 0.001, \"trainable\": true, \"mode\": 0, \"beta_regularizer\": null, \"momentum\": 0.99, \"axis\": -1}, \"inbound_nodes\": [[[\"dense_12\", 0, 0]]], \"name\": \"batchnormalization_24\"}, {\"class_name\": \"BatchNormalization\", \"config\": {\"gamma_regularizer\": null, \"name\": \"batchnormalization_20\", \"epsilon\": 0.001, \"trainable\": true, \"mode\": 0, \"beta_regularizer\": null, \"momentum\": 0.99, \"axis\": -1}, \"inbound_nodes\": [[[\"dense_8\", 0, 0]]], \"name\": \"batchnormalization_20\"}, {\"class_name\": \"LeakyReLU\", \"config\": {\"alpha\": 0.1, \"trainable\": true, \"name\": \"leakyrelu_17\"}, \"inbound_nodes\": [[[\"batchnormalization_19\", 0, 0]]], \"name\": \"leakyrelu_17\"}, {\"class_name\": \"LeakyReLU\", \"config\": {\"alpha\": 0.1, \"trainable\": true, \"name\": \"leakyrelu_20\"}, \"inbound_nodes\": [[[\"batchnormalization_22\", 0, 0]]], \"name\": \"leakyrelu_20\"}, {\"class_name\": \"LeakyReLU\", \"config\": {\"alpha\": 0.1, \"trainable\": true, \"name\": \"leakyrelu_21\"}, \"inbound_nodes\": [[[\"batchnormalization_23\", 0, 0]]], \"name\": \"leakyrelu_21\"}, {\"class_name\": \"LeakyReLU\", \"config\": {\"alpha\": 0.1, \"trainable\": true, \"name\": \"leakyrelu_22\"}, \"inbound_nodes\": [[[\"batchnormalization_24\", 0, 0]]], \"name\": \"leakyrelu_22\"}, {\"class_name\": \"LeakyReLU\", \"config\": {\"alpha\": 0.1, \"trainable\": true, \"name\": \"leakyrelu_18\"}, \"inbound_nodes\": [[[\"batchnormalization_20\", 0, 0]]], \"name\": \"leakyrelu_18\"}, {\"class_name\": \"Dense\", \"config\": {\"W_constraint\": null, \"b_constraint\": null, \"name\": \"o_d\", \"activity_regularizer\": null, \"trainable\": true, \"init\": \"glorot_uniform\", \"bias\": true, \"input_dim\": 32, \"b_regularizer\": null, \"W_regularizer\": {\"l2\": 9.999999747378752e-05, \"name\": \"L1L2Regularizer\", \"l1\": 0.0}, \"activation\": \"relu\", \"output_dim\": 1}, \"inbound_nodes\": [[[\"leakyrelu_17\", 0, 0]]], \"name\": \"o_d\"}, {\"class_name\": \"Dense\", \"config\": {\"W_constraint\": null, \"b_constraint\": null, \"name\": \"o_lob\", \"activity_regularizer\": null, \"trainable\": true, \"init\": \"glorot_uniform\", \"bias\": true, \"input_dim\": 32, \"b_regularizer\": null, \"W_regularizer\": {\"l2\": 9.999999747378752e-05, \"name\": \"L1L2Regularizer\", \"l1\": 0.0}, \"activation\": \"sigmoid\", \"output_dim\": 1}, \"inbound_nodes\": [[[\"leakyrelu_20\", 0, 0]]], \"name\": \"o_lob\"}, {\"class_name\": \"Dense\", \"config\": {\"W_constraint\": null, \"b_constraint\": null, \"name\": \"o_spic\", \"activity_regularizer\": null, \"trainable\": true, \"init\": \"glorot_uniform\", \"bias\": true, \"input_dim\": 32, \"b_regularizer\": null, \"W_regularizer\": {\"l2\": 9.999999747378752e-05, \"name\": \"L1L2Regularizer\", \"l1\": 0.0}, \"activation\": \"sigmoid\", \"output_dim\": 1}, \"inbound_nodes\": [[[\"leakyrelu_21\", 0, 0]]], \"name\": \"o_spic\"}, {\"class_name\": \"Dense\", \"config\": {\"W_constraint\": null, \"b_constraint\": null, \"name\": \"o_mal\", \"activity_regularizer\": null, \"trainable\": true, \"init\": \"glorot_uniform\", \"bias\": true, \"input_dim\": 32, \"b_regularizer\": null, \"W_regularizer\": {\"l2\": 9.999999747378752e-05, \"name\": \"L1L2Regularizer\", \"l1\": 0.0}, \"activation\": \"sigmoid\", \"output_dim\": 1}, \"inbound_nodes\": [[[\"leakyrelu_22\", 0, 0]]], \"name\": \"o_mal\"}, {\"class_name\": \"Dense\", \"config\": {\"W_constraint\": null, \"b_constraint\": null, \"name\": \"o_fp\", \"activity_regularizer\": null, \"trainable\": true, \"init\": \"glorot_uniform\", \"bias\": true, \"input_dim\": 32, \"b_regularizer\": null, \"W_regularizer\": {\"l2\": 9.999999747378752e-05, \"name\": \"L1L2Regularizer\", \"l1\": 0.0}, \"activation\": \"softmax\", \"output_dim\": 3}, \"inbound_nodes\": [[[\"leakyrelu_18\", 0, 0]]], \"name\": \"o_fp\"}], \"input_layers\": [[\"input_2\", 0, 0]], \"output_layers\": [[\"o_d\", 0, 0], [\"o_lob\", 0, 0], [\"o_spic\", 0, 0], [\"o_mal\", 0, 0], [\"o_fp\", 0, 0]], \"name\": \"model_2\"}}'), ('training_config', b'{\"metrics\": null, \"loss\": {\"o_d\": \"mse\", \"o_fp\": \"categorical_crossentropy\", \"o_lob\": \"binary_crossentropy\", \"o_mal\": \"binary_crossentropy\", \"o_spic\": \"binary_crossentropy\"}, \"optimizer_config\": {\"class_name\": \"Nadam\", \"config\": {\"beta_1\": 0.8999999761581421, \"beta_2\": 0.9990000128746033, \"epsilon\": 1e-08, \"clipvalue\": 1.0, \"lr\": 2.9999999242136255e-05, \"schedule_decay\": 0.004}}, \"loss_weights\": {\"o_d\": 1.0, \"o_fp\": 5.0, \"o_lob\": 5.0, \"o_mal\": 5.0, \"o_spic\": 5.0}, \"sample_weight_mode\": null}')]\n",
      "model_weights ['layer_names']\n",
      "optimizer_weights ['weight_names']\n",
      "averagepooling3d_5 <HDF5 group \"/model_weights/averagepooling3d_5\" (0 members)>\n",
      "averagepooling3d_6 <HDF5 group \"/model_weights/averagepooling3d_6\" (0 members)>\n",
      "averagepooling3d_7 <HDF5 group \"/model_weights/averagepooling3d_7\" (0 members)>\n",
      "averagepooling3d_8 <HDF5 group \"/model_weights/averagepooling3d_8\" (0 members)>\n",
      "batchnormalization_13 <HDF5 group \"/model_weights/batchnormalization_13\" (4 members)>\n",
      "batchnormalization_14 <HDF5 group \"/model_weights/batchnormalization_14\" (4 members)>\n",
      "batchnormalization_15 <HDF5 group \"/model_weights/batchnormalization_15\" (4 members)>\n",
      "batchnormalization_16 <HDF5 group \"/model_weights/batchnormalization_16\" (4 members)>\n",
      "batchnormalization_17 <HDF5 group \"/model_weights/batchnormalization_17\" (4 members)>\n",
      "batchnormalization_18 <HDF5 group \"/model_weights/batchnormalization_18\" (4 members)>\n",
      "batchnormalization_19 <HDF5 group \"/model_weights/batchnormalization_19\" (4 members)>\n",
      "batchnormalization_20 <HDF5 group \"/model_weights/batchnormalization_20\" (4 members)>\n",
      "batchnormalization_22 <HDF5 group \"/model_weights/batchnormalization_22\" (4 members)>\n",
      "batchnormalization_23 <HDF5 group \"/model_weights/batchnormalization_23\" (4 members)>\n",
      "batchnormalization_24 <HDF5 group \"/model_weights/batchnormalization_24\" (4 members)>\n",
      "convolution3d_10 <HDF5 group \"/model_weights/convolution3d_10\" (2 members)>\n",
      "convolution3d_6 <HDF5 group \"/model_weights/convolution3d_6\" (2 members)>\n",
      "convolution3d_7 <HDF5 group \"/model_weights/convolution3d_7\" (2 members)>\n",
      "convolution3d_8 <HDF5 group \"/model_weights/convolution3d_8\" (2 members)>\n",
      "convolution3d_9 <HDF5 group \"/model_weights/convolution3d_9\" (2 members)>\n",
      "dense_10 <HDF5 group \"/model_weights/dense_10\" (2 members)>\n",
      "dense_11 <HDF5 group \"/model_weights/dense_11\" (2 members)>\n",
      "dense_12 <HDF5 group \"/model_weights/dense_12\" (2 members)>\n",
      "dense_7 <HDF5 group \"/model_weights/dense_7\" (2 members)>\n",
      "dense_8 <HDF5 group \"/model_weights/dense_8\" (2 members)>\n",
      "globalmaxpooling3d_2 <HDF5 group \"/model_weights/globalmaxpooling3d_2\" (0 members)>\n",
      "input_2 <HDF5 group \"/model_weights/input_2\" (0 members)>\n",
      "leakyrelu_12 <HDF5 group \"/model_weights/leakyrelu_12\" (0 members)>\n",
      "leakyrelu_13 <HDF5 group \"/model_weights/leakyrelu_13\" (0 members)>\n",
      "leakyrelu_14 <HDF5 group \"/model_weights/leakyrelu_14\" (0 members)>\n",
      "leakyrelu_15 <HDF5 group \"/model_weights/leakyrelu_15\" (0 members)>\n",
      "leakyrelu_16 <HDF5 group \"/model_weights/leakyrelu_16\" (0 members)>\n",
      "leakyrelu_17 <HDF5 group \"/model_weights/leakyrelu_17\" (0 members)>\n",
      "leakyrelu_18 <HDF5 group \"/model_weights/leakyrelu_18\" (0 members)>\n",
      "leakyrelu_20 <HDF5 group \"/model_weights/leakyrelu_20\" (0 members)>\n",
      "leakyrelu_21 <HDF5 group \"/model_weights/leakyrelu_21\" (0 members)>\n",
      "leakyrelu_22 <HDF5 group \"/model_weights/leakyrelu_22\" (0 members)>\n",
      "maxpooling3d_5 <HDF5 group \"/model_weights/maxpooling3d_5\" (0 members)>\n",
      "maxpooling3d_6 <HDF5 group \"/model_weights/maxpooling3d_6\" (0 members)>\n",
      "maxpooling3d_7 <HDF5 group \"/model_weights/maxpooling3d_7\" (0 members)>\n",
      "maxpooling3d_8 <HDF5 group \"/model_weights/maxpooling3d_8\" (0 members)>\n",
      "merge_5 <HDF5 group \"/model_weights/merge_5\" (0 members)>\n",
      "merge_6 <HDF5 group \"/model_weights/merge_6\" (0 members)>\n",
      "merge_7 <HDF5 group \"/model_weights/merge_7\" (0 members)>\n",
      "merge_8 <HDF5 group \"/model_weights/merge_8\" (0 members)>\n",
      "o_d <HDF5 group \"/model_weights/o_d\" (2 members)>\n",
      "o_fp <HDF5 group \"/model_weights/o_fp\" (2 members)>\n",
      "o_lob <HDF5 group \"/model_weights/o_lob\" (2 members)>\n",
      "o_mal <HDF5 group \"/model_weights/o_mal\" (2 members)>\n",
      "o_spic <HDF5 group \"/model_weights/o_spic\" (2 members)>\n"
     ]
    }
   ],
   "source": [
    "with h5py.File(node_models[1], 'r') as f:\n",
    "    print(list(f.attrs.items()))\n",
    "    for k,v in f.items():\n",
    "        print(k,list(v.attrs))\n",
    "    layer_info = list(f['model_weights'].attrs.items())\n",
    "    for k,v in f['model_weights'].items():\n",
    "        print(k,v)\n",
    "    "
   ]
  },
  {
   "cell_type": "code",
   "execution_count": 23,
   "metadata": {},
   "outputs": [
    {
     "data": {
      "text/plain": [
       "[('layer_names',\n",
       "  array([b'input_2', b'convolution3d_6', b'batchnormalization_13',\n",
       "         b'leakyrelu_12', b'maxpooling3d_5', b'averagepooling3d_5',\n",
       "         b'merge_5', b'convolution3d_7', b'batchnormalization_14',\n",
       "         b'leakyrelu_13', b'maxpooling3d_6', b'averagepooling3d_6',\n",
       "         b'merge_6', b'convolution3d_8', b'batchnormalization_15',\n",
       "         b'leakyrelu_14', b'maxpooling3d_7', b'averagepooling3d_7',\n",
       "         b'merge_7', b'convolution3d_9', b'batchnormalization_16',\n",
       "         b'leakyrelu_15', b'maxpooling3d_8', b'averagepooling3d_8',\n",
       "         b'merge_8', b'convolution3d_10', b'batchnormalization_17',\n",
       "         b'leakyrelu_16', b'globalmaxpooling3d_2', b'batchnormalization_18',\n",
       "         b'dense_7', b'dense_10', b'dense_11', b'dense_12', b'dense_8',\n",
       "         b'batchnormalization_19', b'batchnormalization_22',\n",
       "         b'batchnormalization_23', b'batchnormalization_24',\n",
       "         b'batchnormalization_20', b'leakyrelu_17', b'leakyrelu_20',\n",
       "         b'leakyrelu_21', b'leakyrelu_22', b'leakyrelu_18', b'o_d', b'o_lob',\n",
       "         b'o_spic', b'o_mal', b'o_fp'],\n",
       "        dtype='|S21'))]"
      ]
     },
     "execution_count": 23,
     "metadata": {},
     "output_type": "execute_result"
    }
   ],
   "source": [
    "layer_info"
   ]
  },
  {
   "cell_type": "code",
   "execution_count": 7,
   "metadata": {
    "collapsed": true
   },
   "outputs": [],
   "source": [
    "import keras.backend as K\n",
    "K.set_image_dim_ordering('th')"
   ]
  },
  {
   "cell_type": "code",
   "execution_count": 1,
   "metadata": {},
   "outputs": [
    {
     "name": "stderr",
     "output_type": "stream",
     "text": [
      "Using TensorFlow backend.\n"
     ]
    }
   ],
   "source": [
    "import os, sys\n",
    "sys.path.append(os.path.join('training_code','FLung_nodule_models'))\n",
    "from build_luna_model_v29 import build_model"
   ]
  },
  {
   "cell_type": "code",
   "execution_count": 9,
   "metadata": {},
   "outputs": [
    {
     "name": "stderr",
     "output_type": "stream",
     "text": [
      "training_code/FLung_nodule_models/build_luna_model_v29.py:44: UserWarning: Update your `Conv3D` call to the Keras 2 API: `Conv3D(8, (3, 3, 3), kernel_regularizer=<keras.reg..., padding=\"same\")`\n",
      "  x1 = Convolution3D(num_filters,3,3,3,border_mode='same',W_regularizer=l2(1e-4))(x_input)\n",
      "training_code/FLung_nodule_models/build_luna_model_v29.py:80: UserWarning: The `merge` function is deprecated and will be removed after 08/2017. Use instead layers from `keras.layers.merge`, e.g. `add`, `concatenate`, etc.\n",
      "  x1_merged = merge([x1, x1_ident],mode='concat', concat_axis=1)\n",
      "/Users/mader/anaconda/lib/python3.5/site-packages/keras/legacy/layers.py:458: UserWarning: The `Merge` layer is deprecated and will be removed after 08/2017. Use instead layers from `keras.layers.merge`, e.g. `add`, `concatenate`, etc.\n",
      "  name=name)\n",
      "training_code/FLung_nodule_models/build_luna_model_v29.py:44: UserWarning: Update your `Conv3D` call to the Keras 2 API: `Conv3D(24, (3, 3, 3), kernel_regularizer=<keras.reg..., padding=\"same\")`\n",
      "  x1 = Convolution3D(num_filters,3,3,3,border_mode='same',W_regularizer=l2(1e-4))(x_input)\n",
      "training_code/FLung_nodule_models/build_luna_model_v29.py:84: UserWarning: The `merge` function is deprecated and will be removed after 08/2017. Use instead layers from `keras.layers.merge`, e.g. `add`, `concatenate`, etc.\n",
      "  x2_merged = merge([x2_1,x2_ident],mode='concat', concat_axis=1)\n",
      "training_code/FLung_nodule_models/build_luna_model_v29.py:44: UserWarning: Update your `Conv3D` call to the Keras 2 API: `Conv3D(64, (3, 3, 3), kernel_regularizer=<keras.reg..., padding=\"same\")`\n",
      "  x1 = Convolution3D(num_filters,3,3,3,border_mode='same',W_regularizer=l2(1e-4))(x_input)\n",
      "training_code/FLung_nodule_models/build_luna_model_v29.py:89: UserWarning: The `merge` function is deprecated and will be removed after 08/2017. Use instead layers from `keras.layers.merge`, e.g. `add`, `concatenate`, etc.\n",
      "  x3_merged = merge([x3_1,x3_ident],mode='concat', concat_axis=1)\n",
      "training_code/FLung_nodule_models/build_luna_model_v29.py:44: UserWarning: Update your `Conv3D` call to the Keras 2 API: `Conv3D(72, (3, 3, 3), kernel_regularizer=<keras.reg..., padding=\"same\")`\n",
      "  x1 = Convolution3D(num_filters,3,3,3,border_mode='same',W_regularizer=l2(1e-4))(x_input)\n",
      "training_code/FLung_nodule_models/build_luna_model_v29.py:93: UserWarning: The `merge` function is deprecated and will be removed after 08/2017. Use instead layers from `keras.layers.merge`, e.g. `add`, `concatenate`, etc.\n",
      "  x4_merged = merge([x4_1,x4_ident],mode='concat', concat_axis=1)\n",
      "training_code/FLung_nodule_models/build_luna_model_v29.py:66: UserWarning: Update your `Dense` call to the Keras 2 API: `Dense(32, kernel_regularizer=<keras.reg...)`\n",
      "  xdense_ = Dense(32,W_regularizer=l2(1e-4))(xstart)\n",
      "training_code/FLung_nodule_models/build_luna_model_v29.py:70: UserWarning: Update your `Dense` call to the Keras 2 API: `Dense(1, kernel_regularizer=<keras.reg..., name=\"o_d\", activation=\"relu\")`\n",
      "  xout = Dense(outsize,activation=activation, name=name,W_regularizer=l2(1e-4))(xdense_)\n",
      "training_code/FLung_nodule_models/build_luna_model_v29.py:70: UserWarning: Update your `Dense` call to the Keras 2 API: `Dense(3, kernel_regularizer=<keras.reg..., name=\"o_fp\", activation=\"softmax\")`\n",
      "  xout = Dense(outsize,activation=activation, name=name,W_regularizer=l2(1e-4))(xdense_)\n",
      "training_code/FLung_nodule_models/build_luna_model_v29.py:70: UserWarning: Update your `Dense` call to the Keras 2 API: `Dense(1, kernel_regularizer=<keras.reg..., name=\"o_marg\", activation=\"sigmoid\")`\n",
      "  xout = Dense(outsize,activation=activation, name=name,W_regularizer=l2(1e-4))(xdense_)\n",
      "training_code/FLung_nodule_models/build_luna_model_v29.py:70: UserWarning: Update your `Dense` call to the Keras 2 API: `Dense(1, kernel_regularizer=<keras.reg..., name=\"o_lob\", activation=\"sigmoid\")`\n",
      "  xout = Dense(outsize,activation=activation, name=name,W_regularizer=l2(1e-4))(xdense_)\n",
      "training_code/FLung_nodule_models/build_luna_model_v29.py:70: UserWarning: Update your `Dense` call to the Keras 2 API: `Dense(1, kernel_regularizer=<keras.reg..., name=\"o_spic\", activation=\"sigmoid\")`\n",
      "  xout = Dense(outsize,activation=activation, name=name,W_regularizer=l2(1e-4))(xdense_)\n",
      "training_code/FLung_nodule_models/build_luna_model_v29.py:70: UserWarning: Update your `Dense` call to the Keras 2 API: `Dense(1, kernel_regularizer=<keras.reg..., name=\"o_mal\", activation=\"sigmoid\")`\n",
      "  xout = Dense(outsize,activation=activation, name=name,W_regularizer=l2(1e-4))(xdense_)\n",
      "training_code/FLung_nodule_models/build_luna_model_v29.py:127: UserWarning: Update your `Model` call to the Keras 2 API: `Model(inputs=Tensor(\"in..., outputs=[<tf.Tenso...)`\n",
      "  model = Model(input=xin,output=[xout_diam, xout_lob, xout_spic, xout_malig, xout_cad_falsepositive])\n"
     ]
    },
    {
     "name": "stdout",
     "output_type": "stream",
     "text": [
      "compiling model\n"
     ]
    }
   ],
   "source": [
    "n_model = build_model((1, 64, 64, 64))"
   ]
  },
  {
   "cell_type": "code",
   "execution_count": 15,
   "metadata": {},
   "outputs": [],
   "source": [
    "n_model.load_weights(node_models[1])"
   ]
  },
  {
   "cell_type": "code",
   "execution_count": 16,
   "metadata": {
    "collapsed": true
   },
   "outputs": [],
   "source": [
    "n_model.save('trained_node_model.h5')"
   ]
  },
  {
   "cell_type": "code",
   "execution_count": 26,
   "metadata": {},
   "outputs": [
    {
     "name": "stdout",
     "output_type": "stream",
     "text": [
      "input_4 (1, 64, 64, 64) -> (1, 64, 64, 64) Strides: None KernelSize: None None\n",
      "conv3d_8 (1, 64, 64, 64) -> (8, 64, 64, 64) Strides: (1, 1, 1) KernelSize: (3, 3, 3) linear\n",
      "batch_normalization_14 (8, 64, 64, 64) -> (8, 64, 64, 64) Strides: None KernelSize: None None\n",
      "leaky_re_lu_13 (8, 64, 64, 64) -> (8, 64, 64, 64) Strides: None KernelSize: None None\n",
      "max_pooling3d_6 (8, 64, 64, 64) -> (8, 32, 32, 32) Strides: (2, 2, 2) KernelSize: None None\n",
      "average_pooling3d_6 (1, 64, 64, 64) -> (1, 32, 32, 32) Strides: (2, 2, 2) KernelSize: None None\n",
      "merge_6 [(None, 1, 32, 32, 32)] -> (9, 32, 32, 32) Strides: None KernelSize: None None\n",
      "conv3d_9 (9, 32, 32, 32) -> (24, 32, 32, 32) Strides: (1, 1, 1) KernelSize: (3, 3, 3) linear\n",
      "batch_normalization_15 (24, 32, 32, 32) -> (24, 32, 32, 32) Strides: None KernelSize: None None\n",
      "leaky_re_lu_14 (24, 32, 32, 32) -> (24, 32, 32, 32) Strides: None KernelSize: None None\n",
      "max_pooling3d_7 (24, 32, 32, 32) -> (24, 16, 16, 16) Strides: (2, 2, 2) KernelSize: None None\n",
      "average_pooling3d_7 (1, 32, 32, 32) -> (1, 16, 16, 16) Strides: (2, 2, 2) KernelSize: None None\n",
      "merge_7 [(None, 1, 16, 16, 16)] -> (25, 16, 16, 16) Strides: None KernelSize: None None\n",
      "conv3d_10 (25, 16, 16, 16) -> (64, 16, 16, 16) Strides: (1, 1, 1) KernelSize: (3, 3, 3) linear\n",
      "batch_normalization_16 (64, 16, 16, 16) -> (64, 16, 16, 16) Strides: None KernelSize: None None\n",
      "leaky_re_lu_15 (64, 16, 16, 16) -> (64, 16, 16, 16) Strides: None KernelSize: None None\n",
      "max_pooling3d_8 (64, 16, 16, 16) -> (64, 8, 8, 8) Strides: (2, 2, 2) KernelSize: None None\n",
      "average_pooling3d_8 (1, 16, 16, 16) -> (1, 8, 8, 8) Strides: (2, 2, 2) KernelSize: None None\n",
      "merge_8 [(None, 1, 8, 8, 8)] -> (65, 8, 8, 8) Strides: None KernelSize: None None\n",
      "conv3d_11 (65, 8, 8, 8) -> (72, 8, 8, 8) Strides: (1, 1, 1) KernelSize: (3, 3, 3) linear\n",
      "batch_normalization_17 (72, 8, 8, 8) -> (72, 8, 8, 8) Strides: None KernelSize: None None\n",
      "leaky_re_lu_16 (72, 8, 8, 8) -> (72, 8, 8, 8) Strides: None KernelSize: None None\n",
      "max_pooling3d_9 (72, 8, 8, 8) -> (72, 4, 4, 4) Strides: (2, 2, 2) KernelSize: None None\n",
      "average_pooling3d_9 (1, 8, 8, 8) -> (1, 4, 4, 4) Strides: (2, 2, 2) KernelSize: None None\n",
      "merge_9 [(None, 1, 4, 4, 4)] -> (73, 4, 4, 4) Strides: None KernelSize: None None\n",
      "conv3d_12 (73, 4, 4, 4) -> (72, 4, 4, 4) Strides: (1, 1, 1) KernelSize: (3, 3, 3) linear\n",
      "batch_normalization_18 (72, 4, 4, 4) -> (72, 4, 4, 4) Strides: None KernelSize: None None\n",
      "leaky_re_lu_17 (72, 4, 4, 4) -> (72, 4, 4, 4) Strides: None KernelSize: None None\n",
      "global_max_pooling3d_2 (72, 4, 4, 4) -> (72,) Strides: None KernelSize: None None\n",
      "batch_normalization_19 (72,) -> (72,) Strides: None KernelSize: None None\n",
      "dense_7 (72,) -> (32,) Strides: None KernelSize: None linear\n",
      "dense_10 (72,) -> (32,) Strides: None KernelSize: None linear\n",
      "dense_11 (72,) -> (32,) Strides: None KernelSize: None linear\n",
      "dense_12 (72,) -> (32,) Strides: None KernelSize: None linear\n",
      "dense_8 (72,) -> (32,) Strides: None KernelSize: None linear\n",
      "batch_normalization_20 (32,) -> (32,) Strides: None KernelSize: None None\n",
      "batch_normalization_23 (32,) -> (32,) Strides: None KernelSize: None None\n",
      "batch_normalization_24 (32,) -> (32,) Strides: None KernelSize: None None\n",
      "batch_normalization_25 (32,) -> (32,) Strides: None KernelSize: None None\n",
      "batch_normalization_21 (32,) -> (32,) Strides: None KernelSize: None None\n",
      "leaky_re_lu_18 (32,) -> (32,) Strides: None KernelSize: None None\n",
      "leaky_re_lu_21 (32,) -> (32,) Strides: None KernelSize: None None\n",
      "leaky_re_lu_22 (32,) -> (32,) Strides: None KernelSize: None None\n",
      "leaky_re_lu_23 (32,) -> (32,) Strides: None KernelSize: None None\n",
      "leaky_re_lu_19 (32,) -> (32,) Strides: None KernelSize: None None\n",
      "o_d (32,) -> (1,) Strides: None KernelSize: None relu\n",
      "o_lob (32,) -> (1,) Strides: None KernelSize: None sigmoid\n",
      "o_spic (32,) -> (1,) Strides: None KernelSize: None sigmoid\n",
      "o_mal (32,) -> (1,) Strides: None KernelSize: None sigmoid\n",
      "o_fp (32,) -> (3,) Strides: None KernelSize: None softmax\n"
     ]
    }
   ],
   "source": [
    "for i in n_model.layers:\n",
    "    print(i.name,i.input_shape[1:],'->',i.output_shape[1:], 'Strides:', i.get_config().get('strides'), \n",
    "          'KernelSize:', i.get_config().get('kernel_size'), i.get_config().get('activation'))"
   ]
  },
  {
   "cell_type": "code",
   "execution_count": 21,
   "metadata": {},
   "outputs": [
    {
     "data": {
      "text/plain": [
       "{'batch_input_shape': (None, 1, 64, 64, 64),\n",
       " 'dtype': 'float32',\n",
       " 'name': 'input_4',\n",
       " 'sparse': False}"
      ]
     },
     "execution_count": 21,
     "metadata": {},
     "output_type": "execute_result"
    }
   ],
   "source": [
    "i.get_config()"
   ]
  },
  {
   "cell_type": "code",
   "execution_count": null,
   "metadata": {
    "collapsed": true
   },
   "outputs": [],
   "source": []
  }
 ],
 "metadata": {
  "kernelspec": {
   "display_name": "Python [default]",
   "language": "python",
   "name": "python3"
  },
  "language_info": {
   "codemirror_mode": {
    "name": "ipython",
    "version": 3
   },
   "file_extension": ".py",
   "mimetype": "text/x-python",
   "name": "python",
   "nbconvert_exporter": "python",
   "pygments_lexer": "ipython3",
   "version": "3.5.2"
  }
 },
 "nbformat": 4,
 "nbformat_minor": 2
}
